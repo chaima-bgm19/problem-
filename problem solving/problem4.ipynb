{
 "cells": [
  {
   "cell_type": "markdown",
   "id": "03e4c2c3-f6dc-4d0f-b5d5-76f8f05bf4e0",
   "metadata": {},
   "source": [
    "x=0;\n",
    "y=1;\n",
    "d=nums[0]=nums[1];\n",
    "print(\"d=\"d);\n"
   ]
  },
  {
   "cell_type": "code",
   "execution_count": null,
   "id": "253d7dc0-3766-4141-85ef-6c288c256819",
   "metadata": {},
   "outputs": [],
   "source": []
  }
 ],
 "metadata": {
  "kernelspec": {
   "display_name": "Python 3 (ipykernel)",
   "language": "python",
   "name": "python3"
  },
  "language_info": {
   "codemirror_mode": {
    "name": "ipython",
    "version": 3
   },
   "file_extension": ".py",
   "mimetype": "text/x-python",
   "name": "python",
   "nbconvert_exporter": "python",
   "pygments_lexer": "ipython3",
   "version": "3.13.1"
  }
 },
 "nbformat": 4,
 "nbformat_minor": 5
}
